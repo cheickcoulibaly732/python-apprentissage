{
  "nbformat": 4,
  "nbformat_minor": 0,
  "metadata": {
    "colab": {
      "provenance": []
    },
    "kernelspec": {
      "name": "python3",
      "display_name": "Python 3"
    },
    "language_info": {
      "name": "python"
    }
  },
  "cells": [
    {
      "cell_type": "code",
      "execution_count": 1,
      "metadata": {
        "colab": {
          "base_uri": "https://localhost:8080/"
        },
        "id": "TG_aqZpCslol",
        "outputId": "ac2d22e2-7121-45bc-9818-ce493e1ba739"
      },
      "outputs": [
        {
          "output_type": "stream",
          "name": "stdout",
          "text": [
            "Quel est ton âge ? 15\n",
            "Tu es un adolescent.\n",
            "Entre un nombre : 75\n",
            "Ce nombre est impair.\n"
          ]
        }
      ],
      "source": [
        "# JOUR 4 : Conditions if / elif / else\n",
        "\n",
        "age = int(input(\"Quel est ton âge ? \"))\n",
        "\n",
        "if age < 12:\n",
        "    print(\"Tu es un enfant.\")\n",
        "elif age < 18:\n",
        "    print(\"Tu es un adolescent.\")\n",
        "elif age < 60:\n",
        "    print(\"Tu es un adulte.\")\n",
        "else:\n",
        "    print(\"Tu es une personne âgée.\")\n",
        "\n",
        "# Exercice bonus : vérifie si un nombre est pair ou impair\n",
        "\n",
        "nombre = int(input(\"Entre un nombre : \"))\n",
        "\n",
        "if nombre % 2 == 0:\n",
        "    print(\"Ce nombre est pair.\")\n",
        "else:\n",
        "    print(\"Ce nombre est impair.\")"
      ]
    },
    {
      "cell_type": "code",
      "source": [
        "temp = float(input(\"Température (°C) : \"))\n",
        "\n",
        "if temp < 15:\n",
        "    print(\"Froid ❄️\")\n",
        "elif temp <= 30:\n",
        "    print(\"Agréable 🌤️\")\n",
        "else:\n",
        "    print(\"Chaud ☀️\")\n"
      ],
      "metadata": {
        "colab": {
          "base_uri": "https://localhost:8080/"
        },
        "id": "SJ-eLkzDsyD7",
        "outputId": "e2ecd691-f45a-4e69-abaa-a12dcbe53b47"
      },
      "execution_count": 2,
      "outputs": [
        {
          "output_type": "stream",
          "name": "stdout",
          "text": [
            "Température (°C) : 45\n",
            "Chaud ☀️\n"
          ]
        }
      ]
    },
    {
      "cell_type": "code",
      "source": [],
      "metadata": {
        "id": "rppryRVctHrP"
      },
      "execution_count": null,
      "outputs": []
    }
  ]
}