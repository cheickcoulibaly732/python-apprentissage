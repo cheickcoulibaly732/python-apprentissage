{
  "nbformat": 4,
  "nbformat_minor": 0,
  "metadata": {
    "colab": {
      "provenance": []
    },
    "kernelspec": {
      "name": "python3",
      "display_name": "Python 3"
    },
    "language_info": {
      "name": "python"
    }
  },
  "cells": [
    {
      "cell_type": "code",
      "execution_count": 2,
      "metadata": {
        "colab": {
          "base_uri": "https://localhost:8080/"
        },
        "id": "rZ0JzoNZoUH9",
        "outputId": "4d2a43d5-5948-4635-e6ee-d6f22df3bb3d"
      },
      "outputs": [
        {
          "output_type": "stream",
          "name": "stdout",
          "text": [
            "Quel est ton prénom ? Cheick\n",
            "Quel est ton âge ? 45\n",
            "Dans quelle ville vis-tu ? Kati\n",
            "Bonjour Cheick, tu as 45 ans et tu vis à Kati.\n",
            "Bienvenue Cheick ! Tu as 45 ans et tu habites à Kati.\n",
            "Tu es probablement né(e) en 1980.\n"
          ]
        }
      ],
      "source": [
        "# JOUR 3 : input() et affichage personnalisé\n",
        "\n",
        "# Demander une entrée utilisateur\n",
        "nom = input(\"Quel est ton prénom ? \")\n",
        "age = input(\"Quel est ton âge ? \")\n",
        "ville = input(\"Dans quelle ville vis-tu ? \")\n",
        "\n",
        "# Affichage simple\n",
        "print(\"Bonjour \" + nom + \", tu as \" + age + \" ans et tu vis à \" + ville + \".\")\n",
        "\n",
        "# Affichage formaté avec f-string (plus propre)\n",
        "print(f\"Bienvenue {nom} ! Tu as {age} ans et tu habites à {ville}.\")\n",
        "\n",
        "# Conversion de type pour un calcul\n",
        "annee_naissance = 2025 - int(age)\n",
        "print(f\"Tu es probablement né(e) en {annee_naissance}.\")\n"
      ]
    },
    {
      "cell_type": "code",
      "source": [
        "produit = input(\"Nom du produit : \")\n",
        "prix = float(input(\"Prix unitaire en FCFA : \"))\n",
        "quantite = int(input(\"Quantité achetée : \"))\n",
        "\n",
        "total = prix * quantite\n",
        "print(f\"Tu as acheté {quantite} unités de {produit} à {prix} FCFA, soit un total de {total} FCFA.\")\n"
      ],
      "metadata": {
        "colab": {
          "base_uri": "https://localhost:8080/"
        },
        "id": "U4HQDIA9pUQF",
        "outputId": "57a9a7b3-af1e-4bbb-afcb-d66654ffa032"
      },
      "execution_count": 3,
      "outputs": [
        {
          "output_type": "stream",
          "name": "stdout",
          "text": [
            "Nom du produit : Riz\n",
            "Prix unitaire en FCFA : 1000\n",
            "Quantité achetée : 25\n",
            "Tu as acheté 25 unités de Riz à 1000.0 FCFA, soit un total de 25000.0 FCFA.\n"
          ]
        }
      ]
    },
    {
      "cell_type": "code",
      "source": [],
      "metadata": {
        "id": "cnb86lgqpo1R"
      },
      "execution_count": null,
      "outputs": []
    }
  ]
}