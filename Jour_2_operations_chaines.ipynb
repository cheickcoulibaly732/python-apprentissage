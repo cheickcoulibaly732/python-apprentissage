{
  "nbformat": 4,
  "nbformat_minor": 0,
  "metadata": {
    "colab": {
      "provenance": []
    },
    "kernelspec": {
      "name": "python3",
      "display_name": "Python 3"
    },
    "language_info": {
      "name": "python"
    }
  },
  "cells": [
    {
      "cell_type": "code",
      "execution_count": 1,
      "metadata": {
        "colab": {
          "base_uri": "https://localhost:8080/"
        },
        "id": "Zz_DuR47YXvM",
        "outputId": "6cf983ec-5371-47ab-8e05-11e4639f8a34"
      },
      "outputs": [
        {
          "output_type": "stream",
          "name": "stdout",
          "text": [
            "Somme : 10\n",
            "Différence : 4\n",
            "Produit : 21\n",
            "Quotient (division réelle) : 2.3333333333333335\n",
            "Division entière : 2\n",
            "Reste de la division : 1\n",
            "Puissance (a^b) : 343\n",
            "Bonjour Cheick\n",
            "Python Python Python \n",
            "Tu as 30 ans.\n"
          ]
        }
      ],
      "source": [
        "# JOUR 2 : Opérations mathématiques & chaînes\n",
        "\n",
        "# Déclaration de variables\n",
        "a = 7\n",
        "b = 3\n",
        "\n",
        "# Opérations mathématiques\n",
        "print(\"Somme :\", a + b)\n",
        "print(\"Différence :\", a - b)\n",
        "print(\"Produit :\", a * b)\n",
        "print(\"Quotient (division réelle) :\", a / b)\n",
        "print(\"Division entière :\", a // b)\n",
        "print(\"Reste de la division :\", a % b)\n",
        "print(\"Puissance (a^b) :\", a ** b)\n",
        "\n",
        "# Concaténation de chaînes\n",
        "prenom = \"Cheick\"\n",
        "message = \"Bonjour \" + prenom\n",
        "print(message)\n",
        "\n",
        "# Répétition de chaînes\n",
        "print(\"Python \" * 3)\n",
        "\n",
        "# Conversion de types\n",
        "age = 30\n",
        "texte = \"Tu as \" + str(age) + \" ans.\"\n",
        "print(texte)"
      ]
    },
    {
      "cell_type": "code",
      "source": [
        "# À toi de jouer !\n",
        "# Modifie les variables suivantes et affiche une phrase :\n",
        "\n",
        "nom = \"Bourama\"\n",
        "ville = \"Séribala\"\n",
        "produit = \"Canne à sucre\"\n",
        "quantite = 20\n",
        "prix_unitaire = 1000\n",
        "\n",
        "total = quantite * prix_unitaire\n",
        "print(nom + \" a acheté \" + str(quantite) + \" kg de \" + produit + \" à \" + ville + \".\")\n",
        "print(\"Le total est de \" + str(total) + \" FCFA.\")"
      ],
      "metadata": {
        "colab": {
          "base_uri": "https://localhost:8080/"
        },
        "id": "XOWJ6OmDYpXP",
        "outputId": "b01beaf5-fcc3-442d-da55-7cbf7a0bcd77"
      },
      "execution_count": 2,
      "outputs": [
        {
          "output_type": "stream",
          "name": "stdout",
          "text": [
            "Bourama a acheté 20 kg de Canne à sucre à Séribala.\n",
            "Le total est de 20000 FCFA.\n"
          ]
        }
      ]
    },
    {
      "cell_type": "code",
      "source": [],
      "metadata": {
        "id": "NnZTnbRkZDzP"
      },
      "execution_count": null,
      "outputs": []
    }
  ]
}