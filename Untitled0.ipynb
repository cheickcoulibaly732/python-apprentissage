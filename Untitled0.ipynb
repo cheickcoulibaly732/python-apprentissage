{
  "nbformat": 4,
  "nbformat_minor": 0,
  "metadata": {
    "colab": {
      "provenance": []
    },
    "kernelspec": {
      "name": "python3",
      "display_name": "Python 3"
    },
    "language_info": {
      "name": "python"
    }
  },
  "cells": [
    {
      "cell_type": "code",
      "execution_count": 1,
      "metadata": {
        "colab": {
          "base_uri": "https://localhost:8080/"
        },
        "id": "U6ApW3ylNuZG",
        "outputId": "8e6c82ed-0f37-4b87-f6ec-76962d1b104a"
      },
      "outputs": [
        {
          "output_type": "stream",
          "name": "stdout",
          "text": [
            "Bonjour, je m'appelle Cheick, j'ai 28 ans et je vis à Bamako.\n"
          ]
        }
      ],
      "source": [
        "# Ceci est ton premier programme Python\n",
        "nom = \"Cheick\"\n",
        "age = 28\n",
        "ville = \"Bamako\"\n",
        "\n",
        "# On affiche une phrase à l'écran\n",
        "print(\"Bonjour, je m'appelle \" + nom + \", j'ai \" + str(age) + \" ans et je vis à \" + ville + \".\")"
      ]
    },
    {
      "cell_type": "markdown",
      "source": [
        "# Ceci est ton premier programme Python\n",
        "nom = \"Coulby\"\n",
        "age = 25\n",
        "ville = \"Kati\"\n",
        "\n",
        "# On affiche une phrase à l'écran\n",
        "print(\"Bonjour, je m'appelle \" + nom + \", j'ai \" + str(age) + \" ans et je vis à \" + ville + \".\")\n"
      ],
      "metadata": {
        "id": "uMTjRnVJN5P9"
      }
    },
    {
      "cell_type": "code",
      "source": [
        "# Ceci est ton premier programme Python\n",
        "nom = \"Coulby\"\n",
        "age = 25\n",
        "ville = \"Kati\"\n",
        "\n",
        "# On affiche une phrase à l'écran\n",
        "print(\"Bonjour, je m'appelle \" + nom + \", j'ai \" + str(age) + \" ans et je vis à \" + ville + \".\")\n"
      ],
      "metadata": {
        "colab": {
          "base_uri": "https://localhost:8080/"
        },
        "id": "4WfQmCjDOvGD",
        "outputId": "76128b0d-1697-46f3-f634-9cbd9db3bc21"
      },
      "execution_count": 2,
      "outputs": [
        {
          "output_type": "stream",
          "name": "stdout",
          "text": [
            "Bonjour, je m'appelle Coulby, j'ai 25 ans et je vis à Kati.\n"
          ]
        }
      ]
    }
  ]
}